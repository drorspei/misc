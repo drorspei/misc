{
 "cells": [
  {
   "cell_type": "markdown",
   "metadata": {},
   "source": [
    "## Complexity of the direct convolution method"
   ]
  },
  {
   "cell_type": "markdown",
   "metadata": {},
   "source": [
    "The number of multiplications performed when calling `convolve(..., method=\"direct\")` doesn't have a pretty formula. I've written up a python function that returns it:"
   ]
  },
  {
   "cell_type": "code",
   "execution_count": 5,
   "metadata": {},
   "outputs": [],
   "source": [
    "def predicted_muls(S_1, S_2, mode=\"full\"):\n",
    "    \"\"\"Prediction of number of multiplications for these shapes and mode\"\"\"\n",
    "    import numpy as np\n",
    "    if mode == \"full\":\n",
    "        if len(S_1) == 1:\n",
    "            return S_1[0] * S_2[0]\n",
    "        else:\n",
    "            return min(np.prod(S_1), np.prod(S_2)) * np.prod([n + k - 1 for n, k in zip(S_1, S_2)])\n",
    "    elif mode == \"valid\":\n",
    "        if len(S_1) == 1:\n",
    "            S_1, S_2 = S_1[0], S_2[0]\n",
    "            if S_2 < S_1:\n",
    "                S_1, S_2 = S_2, S_1\n",
    "            return (S_2 - S_1 + 1) * S_1\n",
    "        else:\n",
    "            return min(np.prod(S_1), np.prod(S_2)) * np.prod([max(n, k) - min(n, k) + 1 for n, k in zip(S_1, S_2)])\n",
    "    elif mode == \"same\":\n",
    "        if len(S_1) == 1:\n",
    "            S_1, S_2 = S_1[0], S_2[0]\n",
    "            if S_1 < S_2:\n",
    "                return S_1 * S_2\n",
    "            else:\n",
    "                return S_1 * S_2 - (S_2 // 2) * ((S_2 + 1) // 2)\n",
    "        else:\n",
    "            return np.prod(S_1) * np.prod(S_2)"
   ]
  },
  {
   "cell_type": "markdown",
   "metadata": {},
   "source": [
    "I also claim that the number of additions performed is always less than the number of multiplications performed.\n",
    "\n",
    "Let's verify this for a few random shapes by counting multiplications and additions when actually running `convolve`."
   ]
  },
  {
   "cell_type": "code",
   "execution_count": 6,
   "metadata": {},
   "outputs": [],
   "source": [
    "import numpy as np\n",
    "\n",
    "class foo:\n",
    "    \"\"\"A class that only counts multiplications and additions, and can be used in `convolve`\"\"\"\n",
    "    muls = 0\n",
    "    adds = 0\n",
    "    def __mul__(self, other):\n",
    "        foo.muls += 1\n",
    "        return self\n",
    "    def __rmul__(self, other):\n",
    "        foo.muls += 1\n",
    "        return self\n",
    "    def __add__(self, other):\n",
    "        foo.adds +=1\n",
    "        return self\n",
    "    def __radd__(self, other):\n",
    "        foo.adds +=1\n",
    "        return self\n",
    "    def conjugate(self):\n",
    "        return self\n",
    "    @staticmethod\n",
    "    def reset():\n",
    "        foo.muls = 0\n",
    "        foo.adds = 0\n",
    "        \n",
    "def count_direct_muls_and_adds(S_1, S_2, mode=\"full\"):\n",
    "    \"\"\"Count number of multiplications and additions for these shapes and mode\"\"\"\n",
    "    from scipy.signal import convolve\n",
    "    import numpy as np\n",
    "    # Reset the counters\n",
    "    foo.reset()\n",
    "    # Perform the convolution\n",
    "    convolve(\n",
    "        np.array([foo()] * np.prod(S_1)).reshape(S_1),\n",
    "        np.array([foo()] * np.prod(S_2)).reshape(S_2),\n",
    "        mode=mode\n",
    "    )\n",
    "    # Return the counters\n",
    "    return foo.muls, foo.adds\n",
    "    \n",
    "def test_hypotheses(S_1, S_2, mode=\"full\"):\n",
    "    \"\"\"Test the prediction for these shapes and mode\"\"\"\n",
    "    muls_1, adds = count_direct_muls_and_adds(S_1, S_2, mode=mode)\n",
    "    muls_2 = predicted_muls(S_1, S_2, mode=mode)\n",
    "\n",
    "    assert muls_1 == muls_2, (S_1, S_2, muls_1, muls_2)\n",
    "    assert adds <= muls_1, (S_1, S_2, adds, muls_1)\n",
    "    \n",
    "# Generate some random data and test the hypotheses\n",
    "# Go over a few dimenions\n",
    "for ndim in range(1, 4):\n",
    "    # Generate random shapes of same dimension\n",
    "    for S_1, S_2 in np.random.randint(1, 10, (5, 2, ndim)):\n",
    "        # Test the hypothesis for these shapes\n",
    "        test_hypotheses(S_1, S_2, mode=\"full\")\n",
    "        \n",
    "for ndim in range(1, 4):\n",
    "    for S_1 in np.random.randint(1, 10, (5, ndim)):\n",
    "        # In \"valid\" mode, one shape must be greater than or equal to every dimension of the other shape\n",
    "        S_2 = S_1 + np.random.randint(0, 3, ndim)\n",
    "        test_hypotheses(S_1, S_2, mode=\"valid\")\n",
    "        \n",
    "for ndim in range(1, 4):\n",
    "    # Generate random shapes of same dimension\n",
    "    for S_1, S_2 in np.random.randint(1, 10, (5, 2, ndim)):\n",
    "        # Test the hypothesis for these shapes\n",
    "        test_hypotheses(S_1, S_2, mode=\"same\")"
   ]
  },
  {
   "cell_type": "markdown",
   "metadata": {},
   "source": []
  }
 ],
 "metadata": {
  "kernelspec": {
   "display_name": "Python 3",
   "language": "python",
   "name": "python3"
  },
  "language_info": {
   "codemirror_mode": {
    "name": "ipython",
    "version": 3
   },
   "file_extension": ".py",
   "mimetype": "text/x-python",
   "name": "python",
   "nbconvert_exporter": "python",
   "pygments_lexer": "ipython3",
   "version": "3.6.7"
  }
 },
 "nbformat": 4,
 "nbformat_minor": 2
}
