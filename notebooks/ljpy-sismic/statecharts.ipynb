{
 "cells": [
  {
   "cell_type": "markdown",
   "metadata": {
    "slideshow": {
     "slide_type": "slide"
    }
   },
   "source": [
    "# State Charts in Python\n",
    "## Nicer Code and Stuff with Sismic\n",
    "### nicer runtime too!"
   ]
  },
  {
   "cell_type": "markdown",
   "metadata": {
    "slideshow": {
     "slide_type": "slide"
    }
   },
   "source": [
    "## But first...\n",
    "# Finite State Machines"
   ]
  },
  {
   "cell_type": "markdown",
   "metadata": {
    "slideshow": {
     "slide_type": "slide"
    }
   },
   "source": [
    "<img src=\"statemachine_light2.svg\" alt=\"state machine diagram\">"
   ]
  },
  {
   "cell_type": "markdown",
   "metadata": {
    "slideshow": {
     "slide_type": "slide"
    }
   },
   "source": [
    "# Harel State Charts\n",
    "## Statecharts: A Visual Formalism for Complex Systems `87"
   ]
  },
  {
   "cell_type": "markdown",
   "metadata": {
    "slideshow": {
     "slide_type": "slide"
    }
   },
   "source": [
    "<img src=\"statecharts_light.svg\" style=\"height:80%\"/>"
   ]
  },
  {
   "cell_type": "markdown",
   "metadata": {
    "slideshow": {
     "slide_type": "slide"
    }
   },
   "source": [
    "# My light also has a fan\n",
    "## With 4 levels: Off, low, med, hi"
   ]
  },
  {
   "cell_type": "markdown",
   "metadata": {
    "slideshow": {
     "slide_type": "slide"
    }
   },
   "source": [
    "<img src=\"statemachine_fan.svg\" style=\"width: 600px\"/>"
   ]
  },
  {
   "cell_type": "markdown",
   "metadata": {
    "slideshow": {
     "slide_type": "slide"
    }
   },
   "source": [
    "<img src=\"statecharts_fan.svg\"/>"
   ]
  },
  {
   "cell_type": "markdown",
   "metadata": {
    "slideshow": {
     "slide_type": "slide"
    }
   },
   "source": [
    "# How do we model both light and fan?\n",
    "### States: {fan levels} x {light on, light off} = 8 only inside :("
   ]
  },
  {
   "cell_type": "markdown",
   "metadata": {
    "slideshow": {
     "slide_type": "slide"
    }
   },
   "source": [
    "<img src=\"statecharts_full.svg\"/>"
   ]
  },
  {
   "cell_type": "code",
   "execution_count": 49,
   "metadata": {
    "slideshow": {
     "slide_type": "skip"
    }
   },
   "outputs": [],
   "source": [
    "# Light State Machine\n",
    "open(\"statemachine_light.yml\", \"wb\").write(\"\"\"\n",
    "statechart:\n",
    "  name: Finite State Machine\n",
    "  root state: \n",
    "    name: LightSwitch\n",
    "    initial: NoPower\n",
    "    states:\n",
    "      - name: NoPower\n",
    "        transitions:\n",
    "          - event: flick\n",
    "            target: LightOn\n",
    "      - name: LightOn\n",
    "        transitions:\n",
    "          - event: flick\n",
    "            target: NoPower\n",
    "          - event: remotePressedOff\n",
    "            target: LightOff\n",
    "      - name: LightOff\n",
    "        transitions:\n",
    "          - event: remotePressedOn\n",
    "            target: LightOn\n",
    "          - event: flick\n",
    "            target: justTurnedOff\n",
    "      - name: justTurnedOff\n",
    "        transitions:\n",
    "          - event: flick\n",
    "            target: LightOff\n",
    "          - target: NoPower\n",
    "            guard: after(2)\n",
    "\"\"\")\n",
    "\n",
    "!dot statemachine_light.dot -T svg > statemachine_light.svg"
   ]
  },
  {
   "cell_type": "code",
   "execution_count": 99,
   "metadata": {
    "slideshow": {
     "slide_type": "skip"
    }
   },
   "outputs": [],
   "source": [
    "# Light State Chart\n",
    "from sismic.io import import_from_yaml, export_to_plantuml\n",
    "\n",
    "statechart = import_from_yaml(\"\"\"\n",
    "statechart:\n",
    "  name: State Chart\n",
    "  root state:\n",
    "    name: LightSwitch\n",
    "    initial: NoPower\n",
    "    states:\n",
    "      - name: NoPower\n",
    "        transitions:\n",
    "          - event: flick\n",
    "            target: HasMemory\n",
    "      - name: HasMemory\n",
    "        initial: WithPower\n",
    "        states:\n",
    "          - name: WithPower\n",
    "            initial: LightOn\n",
    "            states:\n",
    "              - name: history state\n",
    "                type: shallow history\n",
    "              - name: LightOn\n",
    "                transitions:\n",
    "                  - event: remotePressedOff\n",
    "                    target: LightOff\n",
    "              - name: LightOff\n",
    "                transitions:\n",
    "                  - event: remotePressedON\n",
    "                    target: LightOn\n",
    "            transitions:\n",
    "              - event: flick\n",
    "                target: JustTurnedOff\n",
    "          - name: JustTurnedOff\n",
    "            transitions:\n",
    "              - event: flick\n",
    "                target: history state\n",
    "              - target: NoPower\n",
    "                guard: after(2)\n",
    "\"\"\")\n",
    "\n",
    "export_to_plantuml(statechart, \"statecharts_flick.puml\");"
   ]
  },
  {
   "cell_type": "code",
   "execution_count": 98,
   "metadata": {
    "slideshow": {
     "slide_type": "skip"
    }
   },
   "outputs": [],
   "source": [
    "# Fan State Chart\n",
    "from sismic.io import import_from_yaml, export_to_plantuml\n",
    "\n",
    "statechart = import_from_yaml(\"\"\"\n",
    "statechart:\n",
    "  name: State Chart\n",
    "  root state:\n",
    "    name: FanSwitch\n",
    "    initial: NoPower\n",
    "    states:\n",
    "      - name: NoPower\n",
    "        transitions:\n",
    "          - event: flick\n",
    "            target: HasMemory\n",
    "      - name: HasMemory\n",
    "        initial: WithPower\n",
    "        states:\n",
    "          - name: WithPower\n",
    "            initial: FanOff\n",
    "            states:\n",
    "              - name: history state\n",
    "                type: shallow history\n",
    "              - name: FanOff\n",
    "              - name: FanLow\n",
    "              - name: FanMed\n",
    "              - name: FanHi\n",
    "            transitions:\n",
    "              - event: remotePressedOff\n",
    "                target: FanOff\n",
    "              - event: remotePressedLow\n",
    "                target: FanLow\n",
    "              - event: remotePressedMed\n",
    "                target: FanMed\n",
    "              - event: remotePressedHi\n",
    "                target: FanHi\n",
    "              - event: flick\n",
    "                target: JustTurnedOff\n",
    "          - name: JustTurnedOff\n",
    "            transitions:\n",
    "              - event: flick\n",
    "                target: history state\n",
    "              - target: NoPower\n",
    "                guard: after(2)\n",
    "\"\"\")\n",
    "\n",
    "export_to_plantuml(statechart, \"statecharts_fan.puml\");"
   ]
  },
  {
   "cell_type": "code",
   "execution_count": 36,
   "metadata": {
    "slideshow": {
     "slide_type": "skip"
    }
   },
   "outputs": [],
   "source": [
    "# Fan State Machine\n",
    "\n",
    "open(\"statemachine_fan.yml\", \"wb\").write(\"\"\"\n",
    "statechart:\n",
    "  name: Finite State Machine\n",
    "  root state: \n",
    "    name: FanSwitch\n",
    "    initial: NoPower\n",
    "    states:\n",
    "      - name: NoPower\n",
    "        transitions:\n",
    "          - event: flick\n",
    "            target: FanOff\n",
    "      - name: FanOff\n",
    "        transitions:\n",
    "          - event: flick\n",
    "            target: NoPower\n",
    "          - event: remotePressedLow\n",
    "            target: FanLow\n",
    "          - event: remotePressedMed\n",
    "            target: FanMed\n",
    "          - event: remotePressedHi\n",
    "            target: FanHi\n",
    "      - name: FanLow\n",
    "        transitions:\n",
    "          - event: flick\n",
    "            target: JustTurnedOffFromLow\n",
    "          - event: remotePressedOff\n",
    "            target: FanOff\n",
    "          - event: remotePressedMed\n",
    "            target: FanMed\n",
    "          - event: remotePressedHi\n",
    "            target: FanHi\n",
    "      - name: FanMed\n",
    "        transitions:\n",
    "          - event: flick\n",
    "            target: JustTurnedOffFromMed\n",
    "          - event: remotePressedOff\n",
    "            target: FanOff\n",
    "          - event: remotePressedLow\n",
    "            target: FanLow\n",
    "          - event: remotePressedHi\n",
    "            target: FanHi\n",
    "      - name: FanHi\n",
    "        transitions:\n",
    "          - event: flick\n",
    "            target: JustTurnedOffFromHi\n",
    "          - event: remotePressedOff\n",
    "            target: FanOff\n",
    "          - event: remotePressedLow\n",
    "            target: FanLow\n",
    "          - event: remotePressedMed\n",
    "            target: FanMed\n",
    "      - name: JustTurnedOffFromLow\n",
    "        transitions:\n",
    "          - event: flick\n",
    "            target: FanLow\n",
    "          - target: NoPower\n",
    "            guard: after(2)\n",
    "      - name: JustTurnedOffFromMed\n",
    "        transitions:\n",
    "          - event: flick\n",
    "            target: FanMed\n",
    "          - target: NoPower\n",
    "            guard: after(2)\n",
    "      - name: JustTurnedOffFromHi\n",
    "        transitions:\n",
    "          - event: flick\n",
    "            target: FanHi\n",
    "          - target: NoPower\n",
    "            guard: after(2)\n",
    "\"\"\")\n",
    "!python2 -m sismic_viz -o statemachine_fan.dot -T dot statemachine_fan.yml\n",
    "!dot statemachine_fan.dot -T svg > statemachine_fan.svg"
   ]
  },
  {
   "cell_type": "code",
   "execution_count": 1,
   "metadata": {
    "slideshow": {
     "slide_type": "slide"
    }
   },
   "outputs": [],
   "source": [
    "# Full State Chart\n",
    "from sismic.io import import_from_yaml, export_to_plantuml\n",
    "\n",
    "yaml = \"\"\"statechart:\n",
    "  name: State Chart for Realz\n",
    "  root state:\n",
    "    name: LightAndFanSwitch\n",
    "    initial: NoPower\n",
    "    states:\n",
    "      - name: NoPower\n",
    "        transitions:\n",
    "          - event: flick\n",
    "            target: HasMemory\n",
    "      - name: HasMemory\n",
    "        initial: WithPower\n",
    "        states:\n",
    "          - name: WithPower\n",
    "            transitions:\n",
    "              - event: flick\n",
    "                target: JustTurnedOff\n",
    "            initial: Components\n",
    "            states:\n",
    "              - name: history state\n",
    "                type: deep history\n",
    "              - name: Components\n",
    "                parallel states:\n",
    "                  - name: Light\n",
    "                    initial: LightOn\n",
    "                    states:\n",
    "                      - name: LightOn\n",
    "                        transitions:\n",
    "                          - event: remotePressedLightOff\n",
    "                            target: LightOff\n",
    "                      - name: LightOff\n",
    "                        transitions:\n",
    "                          - event: remotePressedLightON\n",
    "                            target: LightOn\n",
    "                  - name: Fan\n",
    "                    initial: FanOff\n",
    "                    states:\n",
    "                      - name: FanOff\n",
    "                      - name: FanLow\n",
    "                      - name: FanMed\n",
    "                      - name: FanHi\n",
    "                    transitions:\n",
    "                      - event: remotePressedFanOff\n",
    "                        target: FanOff\n",
    "                      - event: remotePressedLow\n",
    "                        target: FanLow\n",
    "                      - event: remotePressedMed\n",
    "                        target: FanMed\n",
    "                      - event: remotePressedHi\n",
    "                        target: FanHi\n",
    "          - name: JustTurnedOff\n",
    "            transitions:\n",
    "              - event: flick\n",
    "                target: history state\n",
    "              - target: NoPower\n",
    "                guard: after(2)\n",
    "\"\"\"\n",
    "\n",
    "open(\"statecharts_full.yaml\", \"wb\").write(yaml)\n",
    "statechart = import_from_yaml(yaml)\n",
    "export_to_plantuml(statechart, \"statecharts_full.puml\");"
   ]
  },
  {
   "cell_type": "markdown",
   "metadata": {
    "slideshow": {
     "slide_type": "slide"
    }
   },
   "source": [
    "## Running State Chart with Sismic"
   ]
  },
  {
   "cell_type": "code",
   "execution_count": 2,
   "metadata": {},
   "outputs": [
    {
     "name": "stdout",
     "output_type": "stream",
     "text": [
      "start: ['LightAndFanSwitch', 'NoPower']\n",
      "\n",
      "end: ['LightAndFanSwitch', 'HasMemory', 'WithPower', 'Components', 'Fan', 'Light', 'FanMed', 'LightOff']\n"
     ]
    }
   ],
   "source": [
    "from sismic.interpreter import Interpreter\n",
    "\n",
    "interpreter = Interpreter(statechart)\n",
    "interpreter.execute()  # Enter states\n",
    "print \"start:\", interpreter.configuration\n",
    "print\n",
    "\n",
    "(\n",
    "    interpreter\n",
    "    .queue(\"flick\")\n",
    "    .queue(\"remotePressedLightOff\")\n",
    "    .queue(\"remotePressedMed\")\n",
    "    .queue(\"flick\")\n",
    "    .execute()\n",
    ")\n",
    "\n",
    "interpreter.clock.time += 1\n",
    "interpreter.queue(\"flick\").execute()\n",
    "print \"end:\", interpreter.configuration"
   ]
  },
  {
   "cell_type": "markdown",
   "metadata": {
    "slideshow": {
     "slide_type": "slide"
    }
   },
   "source": [
    "## Exploring a State Chart Offline"
   ]
  },
  {
   "cell_type": "code",
   "execution_count": 108,
   "metadata": {},
   "outputs": [
    {
     "name": "stdout",
     "output_type": "stream",
     "text": [
      " * Running on http://0.0.0.0:5000/ (Press CTRL+C to quit)\n",
      "127.0.0.1 - - [22/May/2019 02:07:58] \"GET / HTTP/1.1\" 200 -\n",
      "[25677:25696:0522/020758.897440:ERROR:browser_process_sub_thread.cc(217)] Waited 6 ms for network service\n",
      "127.0.0.1 - - [22/May/2019 02:07:58] \"GET /statechart.svg?1558483678.89 HTTP/1.1\" 200 -\n",
      "Opening in existing browser session.\n",
      "127.0.0.1 - - [22/May/2019 02:08:01] \"GET /?event=flick HTTP/1.1\" 200 -\n",
      "127.0.0.1 - - [22/May/2019 02:08:01] \"GET /statechart.svg?1558483681.94 HTTP/1.1\" 200 -\n",
      "127.0.0.1 - - [22/May/2019 02:08:06] \"GET /?event=remotePressedLightOff HTTP/1.1\" 200 -\n",
      "127.0.0.1 - - [22/May/2019 02:08:06] \"GET /statechart.svg?1558483686.11 HTTP/1.1\" 200 -\n",
      "127.0.0.1 - - [22/May/2019 02:08:08] \"GET /?event=remotePressedHi HTTP/1.1\" 200 -\n",
      "127.0.0.1 - - [22/May/2019 02:08:08] \"GET /statechart.svg?1558483688.15 HTTP/1.1\" 200 -\n",
      "127.0.0.1 - - [22/May/2019 02:08:13] \"GET /?event=flick HTTP/1.1\" 200 -\n",
      "127.0.0.1 - - [22/May/2019 02:08:13] \"GET /statechart.svg?1558483693.08 HTTP/1.1\" 200 -\n",
      "127.0.0.1 - - [22/May/2019 02:08:17] \"GET /?event=flick HTTP/1.1\" 200 -\n",
      "127.0.0.1 - - [22/May/2019 02:08:17] \"GET /statechart.svg?1558483697.97 HTTP/1.1\" 200 -\n",
      "127.0.0.1 - - [22/May/2019 02:08:27] \"GET /?event=flick HTTP/1.1\" 200 -\n",
      "127.0.0.1 - - [22/May/2019 02:08:27] \"GET /statechart.svg?1558483707.3 HTTP/1.1\" 200 -\n",
      "127.0.0.1 - - [22/May/2019 02:08:30] \"GET /?include_guards=True&include_actions=True&edge_fontsize=14&disable_keyerror=True&time=2&fromform=update HTTP/1.1\" 200 -\n",
      "127.0.0.1 - - [22/May/2019 02:08:30] \"GET /statechart.svg?1558483710.2 HTTP/1.1\" 200 -\n",
      "127.0.0.1 - - [22/May/2019 02:08:34] \"GET /?event=None HTTP/1.1\" 200 -\n",
      "127.0.0.1 - - [22/May/2019 02:08:34] \"GET /statechart.svg?1558483714.87 HTTP/1.1\" 200 -\n",
      "^C\n"
     ]
    }
   ],
   "source": [
    "# pip install git+https://github.com/drorspei/sismic_viz\n",
    "!python2 -m sismic_viz -i statecharts_full.yaml"
   ]
  },
  {
   "cell_type": "code",
   "execution_count": 3,
   "metadata": {
    "slideshow": {
     "slide_type": "-"
    }
   },
   "outputs": [],
   "source": [
    "def send_random_events(interpreter):\n",
    "    from threading import Event, Thread\n",
    "    import random\n",
    "    event = Event()\n",
    "    def inner():\n",
    "        while not event.wait(1):\n",
    "            rand_event = random.choice(list(set(filter(\n",
    "                None,\n",
    "                (trans.event for trans in interpreter.statechart.transitions)\n",
    "            ))))\n",
    "            interpreter.clock.time += 0.5\n",
    "            interpreter.queue(rand_event).execute()\n",
    "    Thread(target=inner).start()\n",
    "    return event"
   ]
  },
  {
   "cell_type": "markdown",
   "metadata": {
    "slideshow": {
     "slide_type": "slide"
    }
   },
   "source": [
    "## Viewing a State Chart During Runtime"
   ]
  },
  {
   "cell_type": "code",
   "execution_count": 4,
   "metadata": {},
   "outputs": [
    {
     "name": "stderr",
     "output_type": "stream",
     "text": [
      " * Running on http://0.0.0.0:5000/ (Press CTRL+C to quit)\n",
      "127.0.0.1 - - [22/May/2019 02:28:24] \"GET / HTTP/1.1\" 200 -\n",
      "127.0.0.1 - - [22/May/2019 02:28:24] \"GET /statechart.svg?1558484904.03 HTTP/1.1\" 200 -\n",
      "127.0.0.1 - - [22/May/2019 02:28:25] \"GET / HTTP/1.1\" 200 -\n",
      "127.0.0.1 - - [22/May/2019 02:28:25] \"GET /statechart.svg?1558484905.24 HTTP/1.1\" 200 -\n",
      "127.0.0.1 - - [22/May/2019 02:28:26] \"GET / HTTP/1.1\" 200 -\n",
      "127.0.0.1 - - [22/May/2019 02:28:26] \"GET /statechart.svg?1558484906.45 HTTP/1.1\" 200 -\n",
      "127.0.0.1 - - [22/May/2019 02:28:27] \"GET /shutdown HTTP/1.1\" 200 -\n"
     ]
    },
    {
     "name": "stdin",
     "output_type": "stream",
     "text": [
      "click enter to finish \n"
     ]
    }
   ],
   "source": [
    "from sismic_viz import server_to_bind\n",
    "\n",
    "server = server_to_bind(statechart)\n",
    "with server as callback:\n",
    "    interpreter = Interpreter(statechart)\n",
    "    interpreter.attach(callback)\n",
    "    interpreter.execute()\n",
    "    \n",
    "    stop_event = send_random_events(interpreter)\n",
    "    \n",
    "    (lambda: raw_input(\"click enter to finish\"))()\n",
    "    stop_event.set()"
   ]
  }
 ],
 "metadata": {
  "kernelspec": {
   "display_name": "Python 2",
   "language": "python2",
   "name": "python2"
  },
  "language_info": {
   "codemirror_mode": {
    "name": "ipython",
    "version": 2
   },
   "file_extension": ".py",
   "mimetype": "text/x-python",
   "name": "python",
   "nbconvert_exporter": "python",
   "pygments_lexer": "ipython2",
   "version": "2.7.15rc1"
  }
 },
 "nbformat": 4,
 "nbformat_minor": 2
}
